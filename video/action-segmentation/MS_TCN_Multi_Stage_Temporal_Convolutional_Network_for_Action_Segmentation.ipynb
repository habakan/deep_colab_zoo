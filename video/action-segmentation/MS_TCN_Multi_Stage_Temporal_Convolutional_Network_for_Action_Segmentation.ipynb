{
  "nbformat": 4,
  "nbformat_minor": 0,
  "metadata": {
    "colab": {
      "name": "MS-TCN: Multi-Stage Temporal Convolutional Network for Action Segmentation.ipynb",
      "provenance": [],
      "collapsed_sections": [],
      "authorship_tag": "ABX9TyMq3WND6lH1vcIT974MXAD1",
      "include_colab_link": true
    },
    "kernelspec": {
      "name": "python3",
      "display_name": "Python 3"
    },
    "language_info": {
      "name": "python"
    }
  },
  "cells": [
    {
      "cell_type": "markdown",
      "metadata": {
        "id": "view-in-github",
        "colab_type": "text"
      },
      "source": [
        "<a href=\"https://colab.research.google.com/github/habakan/deep_colab_zoo/blob/master/video/action-segmentation/MS_TCN_Multi_Stage_Temporal_Convolutional_Network_for_Action_Segmentation.ipynb\" target=\"_parent\"><img src=\"https://colab.research.google.com/assets/colab-badge.svg\" alt=\"Open In Colab\"/></a>"
      ]
    },
    {
      "cell_type": "markdown",
      "source": [
        "## Meta Information\n",
        "### Paper\n",
        "https://arxiv.org/pdf/1903.01945.pdf\n",
        "### Github\n",
        "https://github.com/yabufarha/ms-tcn"
      ],
      "metadata": {
        "id": "LJGxyz-FsurD"
      }
    },
    {
      "cell_type": "code",
      "source": [
        "!git clone https://github.com/yabufarha/ms-tcn.git"
      ],
      "metadata": {
        "colab": {
          "base_uri": "https://localhost:8080/"
        },
        "id": "Qvk_PAH-ELsC",
        "outputId": "ef1f9398-42de-4c1e-f6e1-d7cbd2fecb4a"
      },
      "execution_count": null,
      "outputs": [
        {
          "output_type": "stream",
          "name": "stdout",
          "text": [
            "Cloning into 'ms-tcn'...\n",
            "remote: Enumerating objects: 51, done.\u001b[K\n",
            "remote: Counting objects: 100% (6/6), done.\u001b[K\n",
            "remote: Compressing objects: 100% (4/4), done.\u001b[K\n",
            "remote: Total 51 (delta 2), reused 2 (delta 2), pack-reused 45\u001b[K\n",
            "Unpacking objects: 100% (51/51), done.\n"
          ]
        }
      ]
    },
    {
      "cell_type": "code",
      "source": [
        "%cd ms-tcn"
      ],
      "metadata": {
        "colab": {
          "base_uri": "https://localhost:8080/"
        },
        "id": "1V1FzEJdEMru",
        "outputId": "2371aa5d-b3e3-4c67-8c64-0d53c73294c1"
      },
      "execution_count": null,
      "outputs": [
        {
          "output_type": "stream",
          "name": "stdout",
          "text": [
            "/content/ms-tcn\n"
          ]
        }
      ]
    },
    {
      "cell_type": "code",
      "execution_count": null,
      "metadata": {
        "colab": {
          "base_uri": "https://localhost:8080/"
        },
        "id": "NzBpJIcvsgVh",
        "outputId": "5ae7cd56-b6ef-4b69-cfeb-ca72da4dd95a"
      },
      "outputs": [
        {
          "output_type": "stream",
          "name": "stdout",
          "text": [
            "--2022-05-19 02:04:35--  https://zenodo.org/record/3625992/files/data.zip\n",
            "Resolving zenodo.org (zenodo.org)... 137.138.76.77\n",
            "Connecting to zenodo.org (zenodo.org)|137.138.76.77|:443... connected.\n",
            "HTTP request sent, awaiting response... 200 OK\n",
            "Length: 30210005282 (28G) [application/octet-stream]\n",
            "Saving to: ‘data.zip’\n",
            "\n",
            "data.zip            100%[===================>]  28.13G  23.2MB/s    in 12m 29s \n",
            "\n",
            "2022-05-19 02:17:06 (38.4 MB/s) - ‘data.zip’ saved [30210005282/30210005282]\n",
            "\n"
          ]
        }
      ],
      "source": [
        "!wget https://zenodo.org/record/3625992/files/data.zip"
      ]
    },
    {
      "cell_type": "code",
      "source": [
        "!unzip data.zip"
      ],
      "metadata": {
        "id": "r6pY_s0zskv9"
      },
      "execution_count": null,
      "outputs": []
    },
    {
      "cell_type": "code",
      "source": [
        "!ls"
      ],
      "metadata": {
        "colab": {
          "base_uri": "https://localhost:8080/"
        },
        "id": "NOx-9M_IECKm",
        "outputId": "ec4d22dd-3cfc-484e-905c-2c6cb5106de1"
      },
      "execution_count": null,
      "outputs": [
        {
          "output_type": "stream",
          "name": "stdout",
          "text": [
            "\u001b[0m\u001b[01;34mdata\u001b[0m/  data.zip  \u001b[01;34msample_data\u001b[0m/\n"
          ]
        }
      ]
    },
    {
      "cell_type": "code",
      "source": [
        "!pip install 2to3"
      ],
      "metadata": {
        "colab": {
          "base_uri": "https://localhost:8080/"
        },
        "id": "sMp8Su3rJlMW",
        "outputId": "6faee759-ec47-4a19-cc9a-154c8229b70c"
      },
      "execution_count": null,
      "outputs": [
        {
          "output_type": "stream",
          "name": "stdout",
          "text": [
            "Collecting 2to3\n",
            "  Downloading 2to3-1.0-py3-none-any.whl (1.7 kB)\n",
            "Installing collected packages: 2to3\n",
            "Successfully installed 2to3-1.0\n"
          ]
        }
      ]
    },
    {
      "cell_type": "code",
      "source": [
        "!2to3 -W -n ."
      ],
      "metadata": {
        "colab": {
          "base_uri": "https://localhost:8080/"
        },
        "id": "__qgY8wMK1Nb",
        "outputId": "4b5effb6-c559-4a46-bc68-f6ab3df01957"
      },
      "execution_count": null,
      "outputs": [
        {
          "output_type": "stream",
          "name": "stdout",
          "text": [
            "WARNING: --write-unchanged-files/-W implies -w.\n",
            "RefactoringTool: Skipping optional fixer: buffer\n",
            "RefactoringTool: Skipping optional fixer: idioms\n",
            "RefactoringTool: Skipping optional fixer: set_literal\n",
            "RefactoringTool: Skipping optional fixer: ws_comma\n",
            "RefactoringTool: Refactored ./batch_gen.py\n",
            "--- ./batch_gen.py\t(original)\n",
            "+++ ./batch_gen.py\t(refactored)\n",
            "@@ -46,7 +46,7 @@\n",
            "             batch_input .append(features[:, ::self.sample_rate])\n",
            "             batch_target.append(classes[::self.sample_rate])\n",
            " \n",
            "-        length_of_sequences = map(len, batch_target)\n",
            "+        length_of_sequences = list(map(len, batch_target))\n",
            "         batch_input_tensor = torch.zeros(len(batch_input), np.shape(batch_input[0])[0], max(length_of_sequences), dtype=torch.float)\n",
            "         batch_target_tensor = torch.ones(len(batch_input), max(length_of_sequences), dtype=torch.long)*(-100)\n",
            "         mask = torch.zeros(len(batch_input), self.num_classes, max(length_of_sequences), dtype=torch.float)\n",
            "RefactoringTool: Refactored ./eval.py\n",
            "--- ./eval.py\t(original)\n",
            "+++ ./eval.py\t(refactored)\n",
            "@@ -131,8 +131,8 @@\n",
            "             fp[s] += fp1\n",
            "             fn[s] += fn1\n",
            "             \n",
            "-    print \"Acc: %.4f\" % (100*float(correct)/total)\n",
            "-    print 'Edit: %.4f' % ((1.0*edit)/len(list_of_videos))\n",
            "+    print(\"Acc: %.4f\" % (100*float(correct)/total))\n",
            "+    print('Edit: %.4f' % ((1.0*edit)/len(list_of_videos)))\n",
            "     for s in range(len(overlap)):\n",
            "         precision = tp[s] / float(tp[s]+fp[s])\n",
            "         recall = tp[s] / float(tp[s]+fn[s])\n",
            "@@ -140,7 +140,7 @@\n",
            "         f1 = 2.0 * (precision*recall) / (precision+recall)\n",
            " \n",
            "         f1 = np.nan_to_num(f1)*100\n",
            "-        print 'F1@%0.2f: %.4f' % (overlap[s], f1)\n",
            "+        print('F1@%0.2f: %.4f' % (overlap[s], f1))\n",
            " \n",
            " \n",
            " if __name__ == '__main__':\n",
            "RefactoringTool: No changes to ./main.py\n",
            "RefactoringTool: Refactored ./model.py\n",
            "--- ./model.py\t(original)\n",
            "+++ ./model.py\t(refactored)\n",
            "@@ -89,8 +89,8 @@\n",
            "             batch_gen.reset()\n",
            "             torch.save(self.model.state_dict(), save_dir + \"/epoch-\" + str(epoch + 1) + \".model\")\n",
            "             torch.save(optimizer.state_dict(), save_dir + \"/epoch-\" + str(epoch + 1) + \".opt\")\n",
            "-            print(\"[epoch %d]: epoch loss = %f,   acc = %f\" % (epoch + 1, epoch_loss / len(batch_gen.list_of_examples),\n",
            "-                                                               float(correct)/total))\n",
            "+            print((\"[epoch %d]: epoch loss = %f,   acc = %f\" % (epoch + 1, epoch_loss / len(batch_gen.list_of_examples),\n",
            "+                                                               float(correct)/total)))\n",
            " \n",
            "     def predict(self, model_dir, results_dir, features_path, vid_list_file, epoch, actions_dict, device, sample_rate):\n",
            "         self.model.eval()\n",
            "@@ -101,7 +101,7 @@\n",
            "             list_of_vids = file_ptr.read().split('\\n')[:-1]\n",
            "             file_ptr.close()\n",
            "             for vid in list_of_vids:\n",
            "-                print vid\n",
            "+                print(vid)\n",
            "                 features = np.load(features_path + vid.split('.')[0] + '.npy')\n",
            "                 features = features[:, ::sample_rate]\n",
            "                 input_x = torch.tensor(features, dtype=torch.float)\n",
            "@@ -112,7 +112,7 @@\n",
            "                 predicted = predicted.squeeze()\n",
            "                 recognition = []\n",
            "                 for i in range(len(predicted)):\n",
            "-                    recognition = np.concatenate((recognition, [actions_dict.keys()[actions_dict.values().index(predicted[i].item())]]*sample_rate))\n",
            "+                    recognition = np.concatenate((recognition, [list(actions_dict.keys())[list(actions_dict.values()).index(predicted[i].item())]]*sample_rate))\n",
            "                 f_name = vid.split('/')[-1].split('.')[0]\n",
            "                 f_ptr = open(results_dir + \"/\" + f_name, \"w\")\n",
            "                 f_ptr.write(\"### Frame level recognition: ###\\n\")\n",
            "RefactoringTool: Files that were modified:\n",
            "RefactoringTool: ./batch_gen.py\n",
            "RefactoringTool: ./eval.py\n",
            "RefactoringTool: ./main.py\n",
            "RefactoringTool: ./model.py\n"
          ]
        }
      ]
    },
    {
      "cell_type": "code",
      "source": [
        "!python main.py --action=train --dataset=50salads --split=1"
      ],
      "metadata": {
        "colab": {
          "base_uri": "https://localhost:8080/"
        },
        "id": "3EuD6GRLEg8t",
        "outputId": "59c4fdec-984b-4bfc-a416-3a4c0e1f95d8"
      },
      "execution_count": null,
      "outputs": [
        {
          "output_type": "stream",
          "name": "stdout",
          "text": [
            "[epoch 1]: epoch loss = 10.871546,   acc = 0.120602\n",
            "[epoch 2]: epoch loss = 8.885746,   acc = 0.210549\n",
            "[epoch 3]: epoch loss = 7.573873,   acc = 0.277771\n",
            "[epoch 4]: epoch loss = 6.085959,   acc = 0.416105\n",
            "[epoch 5]: epoch loss = 5.441811,   acc = 0.504238\n",
            "[epoch 6]: epoch loss = 4.801548,   acc = 0.595506\n",
            "[epoch 7]: epoch loss = 4.209166,   acc = 0.662205\n",
            "[epoch 8]: epoch loss = 4.043798,   acc = 0.710566\n",
            "[epoch 9]: epoch loss = 4.288995,   acc = 0.691016\n",
            "[epoch 10]: epoch loss = 3.549328,   acc = 0.764804\n",
            "[epoch 11]: epoch loss = 3.283473,   acc = 0.799466\n",
            "[epoch 12]: epoch loss = 3.206751,   acc = 0.807053\n",
            "[epoch 13]: epoch loss = 3.057348,   acc = 0.817037\n",
            "[epoch 14]: epoch loss = 2.959256,   acc = 0.824440\n",
            "[epoch 15]: epoch loss = 2.834652,   acc = 0.832345\n",
            "[epoch 16]: epoch loss = 2.555767,   acc = 0.859416\n",
            "[epoch 17]: epoch loss = 2.306551,   acc = 0.881330\n",
            "[epoch 18]: epoch loss = 2.211296,   acc = 0.887547\n",
            "[epoch 19]: epoch loss = 2.198733,   acc = 0.886618\n",
            "[epoch 20]: epoch loss = 2.127556,   acc = 0.890895\n",
            "[epoch 21]: epoch loss = 2.315969,   acc = 0.874633\n",
            "[epoch 22]: epoch loss = 2.217144,   acc = 0.887673\n",
            "[epoch 23]: epoch loss = 1.983135,   acc = 0.902859\n",
            "[epoch 24]: epoch loss = 2.105854,   acc = 0.890364\n",
            "[epoch 25]: epoch loss = 2.086715,   acc = 0.891698\n",
            "[epoch 26]: epoch loss = 1.901152,   acc = 0.905384\n",
            "[epoch 27]: epoch loss = 2.487813,   acc = 0.852392\n",
            "[epoch 28]: epoch loss = 1.966973,   acc = 0.898822\n",
            "[epoch 29]: epoch loss = 1.796526,   acc = 0.912421\n",
            "[epoch 30]: epoch loss = 1.660229,   acc = 0.927969\n",
            "[epoch 31]: epoch loss = 1.569131,   acc = 0.936479\n",
            "[epoch 32]: epoch loss = 1.506069,   acc = 0.939287\n",
            "[epoch 33]: epoch loss = 1.456342,   acc = 0.944305\n",
            "[epoch 34]: epoch loss = 1.392995,   acc = 0.952777\n",
            "[epoch 35]: epoch loss = 1.358315,   acc = 0.954538\n",
            "[epoch 36]: epoch loss = 1.317378,   acc = 0.959496\n",
            "[epoch 37]: epoch loss = 1.489987,   acc = 0.940425\n",
            "[epoch 38]: epoch loss = 1.329697,   acc = 0.955942\n",
            "[epoch 39]: epoch loss = 1.247707,   acc = 0.964100\n",
            "[epoch 40]: epoch loss = 1.203525,   acc = 0.967047\n",
            "[epoch 41]: epoch loss = 1.162805,   acc = 0.970221\n",
            "[epoch 42]: epoch loss = 1.123157,   acc = 0.972820\n",
            "[epoch 43]: epoch loss = 1.237289,   acc = 0.963080\n",
            "[epoch 44]: epoch loss = 1.157815,   acc = 0.969807\n",
            "[epoch 45]: epoch loss = 1.122907,   acc = 0.970077\n",
            "[epoch 46]: epoch loss = 1.088186,   acc = 0.972406\n",
            "[epoch 47]: epoch loss = 1.035353,   acc = 0.976953\n",
            "[epoch 48]: epoch loss = 0.999089,   acc = 0.978941\n",
            "[epoch 49]: epoch loss = 0.975732,   acc = 0.980166\n",
            "[epoch 50]: epoch loss = 0.973887,   acc = 0.979722\n"
          ]
        }
      ]
    },
    {
      "cell_type": "code",
      "source": [
        "!python main.py --action=predict --dataset=50salads --split=1"
      ],
      "metadata": {
        "colab": {
          "base_uri": "https://localhost:8080/"
        },
        "id": "eSZ6qWbgEPSE",
        "outputId": "ac601869-5c5f-4e94-9a08-d1892d875820"
      },
      "execution_count": null,
      "outputs": [
        {
          "output_type": "stream",
          "name": "stdout",
          "text": [
            "rgb-01-1.txt\n",
            "rgb-01-2.txt\n",
            "rgb-02-1.txt\n",
            "rgb-02-2.txt\n",
            "rgb-03-1.txt\n",
            "rgb-03-2.txt\n",
            "rgb-04-1.txt\n",
            "rgb-04-2.txt\n",
            "rgb-05-1.txt\n",
            "rgb-05-2.txt\n"
          ]
        }
      ]
    },
    {
      "cell_type": "code",
      "source": [
        "!python eval.py --dataset=50salads --split=1"
      ],
      "metadata": {
        "colab": {
          "base_uri": "https://localhost:8080/"
        },
        "id": "3LuL8gkjElnn",
        "outputId": "b01fab9c-dfb2-45bd-ed45-50893f8770d8"
      },
      "execution_count": null,
      "outputs": [
        {
          "output_type": "stream",
          "name": "stdout",
          "text": [
            "eval.py:39: DeprecationWarning: `np.float` is a deprecated alias for the builtin `float`. To silence this warning, use `float` by itself. Doing this will not modify any behavior and is safe. If you specifically wanted the numpy scalar type, use `np.float64` here.\n",
            "Deprecated in NumPy 1.20; for more details and guidance: https://numpy.org/devdocs/release/1.20.0-notes.html#deprecations\n",
            "  D = np.zeros([m_row+1, n_col+1], np.float)\n",
            "Acc: 76.3471\n",
            "Edit: 59.0701\n",
            "F1@0.10: 64.4914\n",
            "F1@0.25: 63.7236\n",
            "F1@0.50: 54.5106\n"
          ]
        }
      ]
    },
    {
      "cell_type": "code",
      "source": [
        ""
      ],
      "metadata": {
        "id": "jAtf8BR8ZQMb"
      },
      "execution_count": null,
      "outputs": []
    }
  ]
}