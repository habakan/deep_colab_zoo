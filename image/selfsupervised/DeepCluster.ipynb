{
  "nbformat": 4,
  "nbformat_minor": 0,
  "metadata": {
    "colab": {
      "name": "DeepCluster.ipynb",
      "provenance": [],
      "collapsed_sections": [],
      "authorship_tag": "ABX9TyMEyzrHvEz9cQTRkeMXMSqD",
      "include_colab_link": true
    },
    "kernelspec": {
      "name": "python3",
      "display_name": "Python 3"
    },
    "accelerator": "GPU"
  },
  "cells": [
    {
      "cell_type": "markdown",
      "metadata": {
        "id": "view-in-github",
        "colab_type": "text"
      },
      "source": [
        "<a href=\"https://colab.research.google.com/github/habakan/deep_colab_zoo/blob/master/image/selfsupervised/DeepCluster.ipynb\" target=\"_parent\"><img src=\"https://colab.research.google.com/assets/colab-badge.svg\" alt=\"Open In Colab\"/></a>"
      ]
    },
    {
      "cell_type": "code",
      "metadata": {
        "colab": {
          "base_uri": "https://localhost:8080/"
        },
        "id": "_lgGvIPZkFon",
        "outputId": "e5c9c63d-f704-4952-af45-d9b1473c9db1"
      },
      "source": [
        "!git clone https://github.com/facebookresearch/deepcluster.git"
      ],
      "execution_count": 1,
      "outputs": [
        {
          "output_type": "stream",
          "text": [
            "Cloning into 'deepcluster'...\n",
            "remote: Enumerating objects: 111, done.\u001b[K\n",
            "remote: Total 111 (delta 0), reused 0 (delta 0), pack-reused 111\u001b[K\n",
            "Receiving objects: 100% (111/111), 68.49 KiB | 13.70 MiB/s, done.\n",
            "Resolving deltas: 100% (49/49), done.\n"
          ],
          "name": "stdout"
        }
      ]
    },
    {
      "cell_type": "code",
      "metadata": {
        "colab": {
          "base_uri": "https://localhost:8080/"
        },
        "id": "jOaEoSVkmAQp",
        "outputId": "6019f107-ade2-4a57-a396-852699e775d2"
      },
      "source": [
        "%cd deepcluster"
      ],
      "execution_count": 2,
      "outputs": [
        {
          "output_type": "stream",
          "text": [
            "/content/deepcluster\n"
          ],
          "name": "stdout"
        }
      ]
    },
    {
      "cell_type": "code",
      "metadata": {
        "colab": {
          "base_uri": "https://localhost:8080/"
        },
        "id": "O-Wl9YyCl54r",
        "outputId": "8cacbf6c-82a5-41c8-d168-e5e069872e2d"
      },
      "source": [
        "!./download_model.sh"
      ],
      "execution_count": 3,
      "outputs": [
        {
          "output_type": "stream",
          "text": [
            "--2021-01-08 10:54:52--  https://dl.fbaipublicfiles.com/deepcluster/alexnet/checkpoint.pth.tar\n",
            "Resolving dl.fbaipublicfiles.com (dl.fbaipublicfiles.com)... 104.22.75.142, 104.22.74.142, 172.67.9.4, ...\n",
            "Connecting to dl.fbaipublicfiles.com (dl.fbaipublicfiles.com)|104.22.75.142|:443... connected.\n",
            "HTTP request sent, awaiting response... 200 OK\n",
            "Length: 396986103 (379M) [application/x-tar]\n",
            "Saving to: ‘/root/deepcluster_models/alexnet/checkpoint.pth.tar’\n",
            "\n",
            "checkpoint.pth.tar  100%[===================>] 378.59M  24.9MB/s    in 16s     \n",
            "\n",
            "2021-01-08 10:55:09 (23.9 MB/s) - ‘/root/deepcluster_models/alexnet/checkpoint.pth.tar’ saved [396986103/396986103]\n",
            "\n",
            "--2021-01-08 10:55:09--  https://dl.fbaipublicfiles.com/deepcluster/alexnet/model.caffemodel\n",
            "Resolving dl.fbaipublicfiles.com (dl.fbaipublicfiles.com)... 172.67.9.4, 104.22.74.142, 104.22.75.142, ...\n",
            "Connecting to dl.fbaipublicfiles.com (dl.fbaipublicfiles.com)|172.67.9.4|:443... connected.\n",
            "HTTP request sent, awaiting response... 200 OK\n",
            "Length: 249492735 (238M) [binary/octet-stream]\n",
            "Saving to: ‘/root/deepcluster_models/alexnet/model.caffemodel’\n",
            "\n",
            "model.caffemodel    100%[===================>] 237.93M  24.3MB/s    in 10s     \n",
            "\n",
            "2021-01-08 10:55:19 (23.1 MB/s) - ‘/root/deepcluster_models/alexnet/model.caffemodel’ saved [249492735/249492735]\n",
            "\n",
            "--2021-01-08 10:55:19--  https://dl.fbaipublicfiles.com/deepcluster/alexnet/model.prototxt\n",
            "Resolving dl.fbaipublicfiles.com (dl.fbaipublicfiles.com)... 104.22.75.142, 172.67.9.4, 104.22.74.142, ...\n",
            "Connecting to dl.fbaipublicfiles.com (dl.fbaipublicfiles.com)|104.22.75.142|:443... connected.\n",
            "HTTP request sent, awaiting response... 200 OK\n",
            "Length: 6510 (6.4K) [binary/octet-stream]\n",
            "Saving to: ‘/root/deepcluster_models/alexnet/model.prototxt’\n",
            "\n",
            "model.prototxt      100%[===================>]   6.36K  --.-KB/s    in 0s      \n",
            "\n",
            "2021-01-08 10:55:20 (87.2 MB/s) - ‘/root/deepcluster_models/alexnet/model.prototxt’ saved [6510/6510]\n",
            "\n",
            "--2021-01-08 10:55:20--  https://dl.fbaipublicfiles.com/deepcluster/vgg16/checkpoint.pth.tar\n",
            "Resolving dl.fbaipublicfiles.com (dl.fbaipublicfiles.com)... 104.22.75.142, 172.67.9.4, 104.22.74.142, ...\n",
            "Connecting to dl.fbaipublicfiles.com (dl.fbaipublicfiles.com)|104.22.75.142|:443... connected.\n",
            "HTTP request sent, awaiting response... 200 OK\n",
            "Length: 700999108 (669M) [application/x-tar]\n",
            "Saving to: ‘/root/deepcluster_models/vgg16/checkpoint.pth.tar’\n",
            "\n",
            "checkpoint.pth.tar  100%[===================>] 668.52M  24.5MB/s    in 28s     \n",
            "\n",
            "2021-01-08 10:55:48 (24.0 MB/s) - ‘/root/deepcluster_models/vgg16/checkpoint.pth.tar’ saved [700999108/700999108]\n",
            "\n",
            "--2021-01-08 10:55:48--  https://dl.fbaipublicfiles.com/deepcluster/vgg16/model.caffemodel\n",
            "Resolving dl.fbaipublicfiles.com (dl.fbaipublicfiles.com)... 104.22.74.142, 104.22.75.142, 172.67.9.4, ...\n",
            "Connecting to dl.fbaipublicfiles.com (dl.fbaipublicfiles.com)|104.22.74.142|:443... connected.\n",
            "HTTP request sent, awaiting response... 200 OK\n",
            "Length: 553502628 (528M) [binary/octet-stream]\n",
            "Saving to: ‘/root/deepcluster_models/vgg16/model.caffemodel’\n",
            "\n",
            "model.caffemodel    100%[===================>] 527.86M  24.8MB/s    in 22s     \n",
            "\n",
            "2021-01-08 10:56:11 (24.0 MB/s) - ‘/root/deepcluster_models/vgg16/model.caffemodel’ saved [553502628/553502628]\n",
            "\n",
            "--2021-01-08 10:56:11--  https://dl.fbaipublicfiles.com/deepcluster/vgg16/model.prototxt\n",
            "Resolving dl.fbaipublicfiles.com (dl.fbaipublicfiles.com)... 104.22.75.142, 172.67.9.4, 104.22.74.142, ...\n",
            "Connecting to dl.fbaipublicfiles.com (dl.fbaipublicfiles.com)|104.22.75.142|:443... connected.\n",
            "HTTP request sent, awaiting response... 200 OK\n",
            "Length: 12137 (12K) [binary/octet-stream]\n",
            "Saving to: ‘/root/deepcluster_models/vgg16/model.prototxt’\n",
            "\n",
            "model.prototxt      100%[===================>]  11.85K  --.-KB/s    in 0s      \n",
            "\n",
            "2021-01-08 10:56:11 (111 MB/s) - ‘/root/deepcluster_models/vgg16/model.prototxt’ saved [12137/12137]\n",
            "\n"
          ],
          "name": "stdout"
        }
      ]
    },
    {
      "cell_type": "code",
      "metadata": {
        "colab": {
          "base_uri": "https://localhost:8080/",
          "height": 52
        },
        "id": "XiXtgQP0mlEA",
        "outputId": "9a038a79-e73a-421a-aa14-db726c777931"
      },
      "source": [
        "\"\"\"\n",
        "!DIR=\"/datasets01/imagenet_full_size/061417/train\"\n",
        "!ARCH=\"alexnet\"\n",
        "!LR=0.05\n",
        "!WD=-5\n",
        "!K=10000\n",
        "!WORKERS=12\n",
        "!EXP=\"/private/home/${USER}/test/exp\"\n",
        "\n",
        "!mkdir -p ${EXP}\n",
        "\n",
        "!CUDA_VISIBLE_DEVICES=0 ${PYTHON} main.py ${DIR} --exp ${EXP} --arch ${ARCH} \\\n",
        "  --lr ${LR} --wd ${WD} --k ${K} --sobel --verbose --workers ${WORKERS}\n",
        "\"\"\""
      ],
      "execution_count": 4,
      "outputs": [
        {
          "output_type": "execute_result",
          "data": {
            "application/vnd.google.colaboratory.intrinsic+json": {
              "type": "string"
            },
            "text/plain": [
              "'\\n!DIR=\"/datasets01/imagenet_full_size/061417/train\"\\n!ARCH=\"alexnet\"\\n!LR=0.05\\n!WD=-5\\n!K=10000\\n!WORKERS=12\\n!EXP=\"/private/home/${USER}/test/exp\"\\n\\n!mkdir -p ${EXP}\\n\\n!CUDA_VISIBLE_DEVICES=0 ${PYTHON} main.py ${DIR} --exp ${EXP} --arch ${ARCH}   --lr ${LR} --wd ${WD} --k ${K} --sobel --verbose --workers ${WORKERS}\\n'"
            ]
          },
          "metadata": {
            "tags": []
          },
          "execution_count": 4
        }
      ]
    },
    {
      "cell_type": "code",
      "metadata": {
        "colab": {
          "base_uri": "https://localhost:8080/"
        },
        "id": "D1uZM0vnnWcU",
        "outputId": "74d6f5a9-4d55-421e-c25c-76ad51ce5bc5"
      },
      "source": [
        "!pip install torchvision\n",
        "!pip install faiss-gpu==1.6.1"
      ],
      "execution_count": 24,
      "outputs": [
        {
          "output_type": "stream",
          "text": [
            "Requirement already satisfied: torchvision in /usr/local/lib/python3.6/dist-packages (0.1.8)\n",
            "Requirement already satisfied: pillow in /usr/local/lib/python3.6/dist-packages (from torchvision) (7.0.0)\n",
            "Requirement already satisfied: torch in /usr/local/lib/python3.6/dist-packages (from torchvision) (1.7.0+cu101)\n",
            "Requirement already satisfied: numpy in /usr/local/lib/python3.6/dist-packages (from torchvision) (1.19.4)\n",
            "Requirement already satisfied: six in /usr/local/lib/python3.6/dist-packages (from torchvision) (1.15.0)\n",
            "Requirement already satisfied: future in /usr/local/lib/python3.6/dist-packages (from torch->torchvision) (0.16.0)\n",
            "Requirement already satisfied: dataclasses in /usr/local/lib/python3.6/dist-packages (from torch->torchvision) (0.8)\n",
            "Requirement already satisfied: typing-extensions in /usr/local/lib/python3.6/dist-packages (from torch->torchvision) (3.7.4.3)\n",
            "Requirement already satisfied: faiss-gpu==1.6.1 in /usr/local/lib/python3.6/dist-packages (1.6.1)\n",
            "Requirement already satisfied: numpy in /usr/local/lib/python3.6/dist-packages (from faiss-gpu==1.6.1) (1.19.4)\n"
          ],
          "name": "stdout"
        }
      ]
    },
    {
      "cell_type": "code",
      "metadata": {
        "id": "Ns_rCChbnnZr"
      },
      "source": [
        "!mkdir ./exp"
      ],
      "execution_count": 6,
      "outputs": []
    },
    {
      "cell_type": "code",
      "metadata": {
        "colab": {
          "base_uri": "https://localhost:8080/"
        },
        "id": "zjTt9hn8n5Ac",
        "outputId": "0bf9a8f8-b308-43af-cf82-b8fb8937e118"
      },
      "source": [
        "!wget https://s3.amazonaws.com/fast-ai-imageclas/imagenette-320.tgz\n",
        "!tar xzf imagenette-320.tgz"
      ],
      "execution_count": 7,
      "outputs": [
        {
          "output_type": "stream",
          "text": [
            "--2021-01-08 10:56:31--  https://s3.amazonaws.com/fast-ai-imageclas/imagenette-320.tgz\n",
            "Resolving s3.amazonaws.com (s3.amazonaws.com)... 52.216.130.189\n",
            "Connecting to s3.amazonaws.com (s3.amazonaws.com)|52.216.130.189|:443... connected.\n",
            "HTTP request sent, awaiting response... 200 OK\n",
            "Length: 341289752 (325M) [application/x-tar]\n",
            "Saving to: ‘imagenette-320.tgz’\n",
            "\n",
            "imagenette-320.tgz  100%[===================>] 325.48M  97.4MB/s    in 3.3s    \n",
            "\n",
            "2021-01-08 10:56:35 (97.4 MB/s) - ‘imagenette-320.tgz’ saved [341289752/341289752]\n",
            "\n"
          ],
          "name": "stdout"
        }
      ]
    },
    {
      "cell_type": "code",
      "metadata": {
        "colab": {
          "base_uri": "https://localhost:8080/"
        },
        "id": "bTcKtH2xn7rW",
        "outputId": "a1f58def-6c1c-413a-a1be-1498ce6c5a9c"
      },
      "source": [
        "!ls imagenette-320"
      ],
      "execution_count": 8,
      "outputs": [
        {
          "output_type": "stream",
          "text": [
            "train  val\n"
          ],
          "name": "stdout"
        }
      ]
    },
    {
      "cell_type": "code",
      "metadata": {
        "colab": {
          "base_uri": "https://localhost:8080/"
        },
        "id": "vMRLKV3ImwVD",
        "outputId": "6e2c9b54-bc28-41d6-fa7e-b874b5b3dead"
      },
      "source": [
        "!CUDA_VISIBLE_DEVICES=0 python main.py ./imagenette-320/train --exp ./exp --arch alexnet --lr 0.05 --wd -5 --k 100 --sobel --verbose"
      ],
      "execution_count": 23,
      "outputs": [
        {
          "output_type": "stream",
          "text": [
            "Architecture: alexnet\n",
            "Traceback (most recent call last):\n",
            "  File \"main.py\", line 327, in <module>\n",
            "    main(args)\n",
            "  File \"main.py\", line 122, in main\n",
            "    tra = [transforms.Resize(256),\n",
            "AttributeError: module 'torchvision.transforms' has no attribute 'Resize'\n"
          ],
          "name": "stdout"
        }
      ]
    },
    {
      "cell_type": "code",
      "metadata": {
        "id": "buRZtJCLqFKA"
      },
      "source": [
        ""
      ],
      "execution_count": null,
      "outputs": []
    }
  ]
}