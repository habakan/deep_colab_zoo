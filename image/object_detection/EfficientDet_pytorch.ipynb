{
  "nbformat": 4,
  "nbformat_minor": 0,
  "metadata": {
    "colab": {
      "name": "EfficientDet-pytorch.ipynb",
      "provenance": [],
      "collapsed_sections": [],
      "authorship_tag": "ABX9TyP1g0gfiKEBX1K17ko6EIou",
      "include_colab_link": true
    },
    "kernelspec": {
      "name": "python3",
      "display_name": "Python 3"
    },
    "accelerator": "GPU"
  },
  "cells": [
    {
      "cell_type": "markdown",
      "metadata": {
        "id": "view-in-github",
        "colab_type": "text"
      },
      "source": [
        "<a href=\"https://colab.research.google.com/github/habakan/deep_colab_zoo/blob/master/image/object_detection/EfficientDet_pytorch.ipynb\" target=\"_parent\"><img src=\"https://colab.research.google.com/assets/colab-badge.svg\" alt=\"Open In Colab\"/></a>"
      ]
    },
    {
      "cell_type": "code",
      "metadata": {
        "colab": {
          "base_uri": "https://localhost:8080/"
        },
        "id": "1A15uxkS-ytd",
        "outputId": "16355b90-b9fc-401d-e06b-fcb895cddb6a"
      },
      "source": [
        "!nvcc --version"
      ],
      "execution_count": 8,
      "outputs": [
        {
          "output_type": "stream",
          "text": [
            "nvcc: NVIDIA (R) Cuda compiler driver\n",
            "Copyright (c) 2005-2019 NVIDIA Corporation\n",
            "Built on Sun_Jul_28_19:07:16_PDT_2019\n",
            "Cuda compilation tools, release 10.1, V10.1.243\n"
          ],
          "name": "stdout"
        }
      ]
    },
    {
      "cell_type": "code",
      "metadata": {
        "colab": {
          "base_uri": "https://localhost:8080/"
        },
        "id": "BnCj5JuY3CRa",
        "outputId": "0edccead-b2fe-4c51-d36a-99a5f9c149c4"
      },
      "source": [
        "!git clone https://github.com/rwightman/efficientdet-pytorch.git"
      ],
      "execution_count": 1,
      "outputs": [
        {
          "output_type": "stream",
          "text": [
            "Cloning into 'efficientdet-pytorch'...\n",
            "remote: Enumerating objects: 22, done.\u001b[K\n",
            "remote: Counting objects: 100% (22/22), done.\u001b[K\n",
            "remote: Compressing objects: 100% (20/20), done.\u001b[K\n",
            "remote: Total 861 (delta 8), reused 6 (delta 2), pack-reused 839\u001b[K\n",
            "Receiving objects: 100% (861/861), 334.70 KiB | 13.39 MiB/s, done.\n",
            "Resolving deltas: 100% (551/551), done.\n"
          ],
          "name": "stdout"
        }
      ]
    },
    {
      "cell_type": "markdown",
      "metadata": {
        "id": "Bg_nYzOq3jSz"
      },
      "source": [
        "## Download PascalVOC"
      ]
    },
    {
      "cell_type": "code",
      "metadata": {
        "colab": {
          "base_uri": "https://localhost:8080/"
        },
        "id": "bmbCpIbM3eCp",
        "outputId": "e91f6a61-3aec-49ec-cac1-a6d7552b640f"
      },
      "source": [
        "!mkdir dataset\n",
        "%cd dataset\n",
        "!wget http://host.robots.ox.ac.uk/pascal/VOC/voc2012/VOCtrainval_11-May-2012.tar\n",
        "!wget http://host.robots.ox.ac.uk/pascal/VOC/voc2007/VOCtrainval_06-Nov-2007.tar\n",
        "!wget http://host.robots.ox.ac.uk/pascal/VOC/voc2007/VOCtest_06-Nov-2007.tar\n",
        "!find . -name '*.tar' -exec tar xf {} \\;\n",
        "%cd .."
      ],
      "execution_count": 2,
      "outputs": [
        {
          "output_type": "stream",
          "text": [
            "/content/dataset\n",
            "--2021-01-23 01:43:22--  http://host.robots.ox.ac.uk/pascal/VOC/voc2012/VOCtrainval_11-May-2012.tar\n",
            "Resolving host.robots.ox.ac.uk (host.robots.ox.ac.uk)... 129.67.94.152\n",
            "Connecting to host.robots.ox.ac.uk (host.robots.ox.ac.uk)|129.67.94.152|:80... connected.\n",
            "HTTP request sent, awaiting response... 200 OK\n",
            "Length: 1999639040 (1.9G) [application/x-tar]\n",
            "Saving to: ‘VOCtrainval_11-May-2012.tar’\n",
            "\n",
            "VOCtrainval_11-May- 100%[===================>]   1.86G  9.06MB/s    in 3m 31s  \n",
            "\n",
            "2021-01-23 01:46:54 (9.04 MB/s) - ‘VOCtrainval_11-May-2012.tar’ saved [1999639040/1999639040]\n",
            "\n",
            "--2021-01-23 01:46:54--  http://host.robots.ox.ac.uk/pascal/VOC/voc2007/VOCtrainval_06-Nov-2007.tar\n",
            "Resolving host.robots.ox.ac.uk (host.robots.ox.ac.uk)... 129.67.94.152\n",
            "Connecting to host.robots.ox.ac.uk (host.robots.ox.ac.uk)|129.67.94.152|:80... connected.\n",
            "HTTP request sent, awaiting response... 200 OK\n",
            "Length: 460032000 (439M) [application/x-tar]\n",
            "Saving to: ‘VOCtrainval_06-Nov-2007.tar’\n",
            "\n",
            "VOCtrainval_06-Nov- 100%[===================>] 438.72M  9.74MB/s    in 47s     \n",
            "\n",
            "2021-01-23 01:47:42 (9.29 MB/s) - ‘VOCtrainval_06-Nov-2007.tar’ saved [460032000/460032000]\n",
            "\n",
            "--2021-01-23 01:47:42--  http://host.robots.ox.ac.uk/pascal/VOC/voc2007/VOCtest_06-Nov-2007.tar\n",
            "Resolving host.robots.ox.ac.uk (host.robots.ox.ac.uk)... 129.67.94.152\n",
            "Connecting to host.robots.ox.ac.uk (host.robots.ox.ac.uk)|129.67.94.152|:80... connected.\n",
            "HTTP request sent, awaiting response... 200 OK\n",
            "Length: 451020800 (430M) [application/x-tar]\n",
            "Saving to: ‘VOCtest_06-Nov-2007.tar’\n",
            "\n",
            "VOCtest_06-Nov-2007 100%[===================>] 430.13M  9.05MB/s    in 49s     \n",
            "\n",
            "2021-01-23 01:48:31 (8.81 MB/s) - ‘VOCtest_06-Nov-2007.tar’ saved [451020800/451020800]\n",
            "\n",
            "/content\n"
          ],
          "name": "stdout"
        }
      ]
    },
    {
      "cell_type": "code",
      "metadata": {
        "colab": {
          "base_uri": "https://localhost:8080/"
        },
        "id": "n21P7D4339Rh",
        "outputId": "a9260811-780e-4683-e846-166a0205046f"
      },
      "source": [
        "%cd efficientdet-pytorch/"
      ],
      "execution_count": 3,
      "outputs": [
        {
          "output_type": "stream",
          "text": [
            "/content/efficientdet-pytorch\n"
          ],
          "name": "stdout"
        }
      ]
    },
    {
      "cell_type": "code",
      "metadata": {
        "colab": {
          "base_uri": "https://localhost:8080/"
        },
        "id": "DmaLsB7d55jn",
        "outputId": "e63286dd-7ff5-443d-cfa6-ad244c314d8e"
      },
      "source": [
        "!pip install -r requirements.txt"
      ],
      "execution_count": 4,
      "outputs": [
        {
          "output_type": "stream",
          "text": [
            "Requirement already satisfied: torch>=1.4.0 in /usr/local/lib/python3.6/dist-packages (from -r requirements.txt (line 1)) (1.7.0+cu101)\n",
            "Collecting timm>=0.3.2\n",
            "\u001b[?25l  Downloading https://files.pythonhosted.org/packages/22/c6/ba02d533cec7329323c7d7a317ab49f673846ecef202d4cc40988b6b7786/timm-0.3.4-py3-none-any.whl (244kB)\n",
            "\u001b[K     |████████████████████████████████| 245kB 8.1MB/s \n",
            "\u001b[?25hRequirement already satisfied: torchvision in /usr/local/lib/python3.6/dist-packages (from -r requirements.txt (line 3)) (0.8.1+cu101)\n",
            "Requirement already satisfied: pyyaml in /usr/local/lib/python3.6/dist-packages (from -r requirements.txt (line 4)) (3.13)\n",
            "Requirement already satisfied: numpy in /usr/local/lib/python3.6/dist-packages (from -r requirements.txt (line 5)) (1.19.5)\n",
            "Requirement already satisfied: pycocotools>=2.0.2 in /usr/local/lib/python3.6/dist-packages (from -r requirements.txt (line 8)) (2.0.2)\n",
            "Collecting omegaconf>=2.0\n",
            "  Downloading https://files.pythonhosted.org/packages/d0/eb/9d63ce09dd8aa85767c65668d5414958ea29648a0eec80a4a7d311ec2684/omegaconf-2.0.6-py3-none-any.whl\n",
            "Requirement already satisfied: future in /usr/local/lib/python3.6/dist-packages (from torch>=1.4.0->-r requirements.txt (line 1)) (0.16.0)\n",
            "Requirement already satisfied: typing-extensions in /usr/local/lib/python3.6/dist-packages (from torch>=1.4.0->-r requirements.txt (line 1)) (3.7.4.3)\n",
            "Requirement already satisfied: dataclasses in /usr/local/lib/python3.6/dist-packages (from torch>=1.4.0->-r requirements.txt (line 1)) (0.8)\n",
            "Requirement already satisfied: pillow>=4.1.1 in /usr/local/lib/python3.6/dist-packages (from torchvision->-r requirements.txt (line 3)) (7.0.0)\n",
            "Requirement already satisfied: setuptools>=18.0 in /usr/local/lib/python3.6/dist-packages (from pycocotools>=2.0.2->-r requirements.txt (line 8)) (51.3.3)\n",
            "Requirement already satisfied: cython>=0.27.3 in /usr/local/lib/python3.6/dist-packages (from pycocotools>=2.0.2->-r requirements.txt (line 8)) (0.29.21)\n",
            "Requirement already satisfied: matplotlib>=2.1.0 in /usr/local/lib/python3.6/dist-packages (from pycocotools>=2.0.2->-r requirements.txt (line 8)) (3.2.2)\n",
            "Requirement already satisfied: pyparsing!=2.0.4,!=2.1.2,!=2.1.6,>=2.0.1 in /usr/local/lib/python3.6/dist-packages (from matplotlib>=2.1.0->pycocotools>=2.0.2->-r requirements.txt (line 8)) (2.4.7)\n",
            "Requirement already satisfied: kiwisolver>=1.0.1 in /usr/local/lib/python3.6/dist-packages (from matplotlib>=2.1.0->pycocotools>=2.0.2->-r requirements.txt (line 8)) (1.3.1)\n",
            "Requirement already satisfied: cycler>=0.10 in /usr/local/lib/python3.6/dist-packages (from matplotlib>=2.1.0->pycocotools>=2.0.2->-r requirements.txt (line 8)) (0.10.0)\n",
            "Requirement already satisfied: python-dateutil>=2.1 in /usr/local/lib/python3.6/dist-packages (from matplotlib>=2.1.0->pycocotools>=2.0.2->-r requirements.txt (line 8)) (2.8.1)\n",
            "Requirement already satisfied: six in /usr/local/lib/python3.6/dist-packages (from cycler>=0.10->matplotlib>=2.1.0->pycocotools>=2.0.2->-r requirements.txt (line 8)) (1.15.0)\n",
            "\u001b[31mERROR: omegaconf 2.0.6 has requirement PyYAML>=5.1.*, but you'll have pyyaml 3.13 which is incompatible.\u001b[0m\n",
            "Installing collected packages: timm, omegaconf\n",
            "Successfully installed omegaconf-2.0.6 timm-0.3.4\n"
          ],
          "name": "stdout"
        }
      ]
    },
    {
      "cell_type": "code",
      "metadata": {
        "colab": {
          "base_uri": "https://localhost:8080/"
        },
        "id": "pBPVZxir5c2B",
        "outputId": "c6e4f087-e9a8-4282-ebe1-276fda2333b6"
      },
      "source": [
        "!./distributed_train.sh 1 ../dataset/VOCdevkit --model efficientdet_d0 --dataset voc0712 -b 16 --amp --lr .008 --sync-bn --opt momentum --warmup-epochs 3 --model-ema --model-ema-decay 0.9966 --epochs 150 --num-classes 20 --pretrained"
      ],
      "execution_count": null,
      "outputs": [
        {
          "output_type": "stream",
          "text": [
            "Training with a single process on 1 GPU.\n",
            "Model efficientdet_d0 created, param count: 3836813\n",
            "Using native Torch AMP. Training in mixed precision.\n",
            "Scheduled epochs: 160\n",
            "Train: 0 [   0/1035 (  0%)]  Loss: 18.058500 (18.0585)  Time: 5.782s,    2.77/s  (5.782s,    2.77/s)  LR: 1.000e-04  Data: 1.386 (1.386)\n",
            "Train: 0 [  50/1035 (  5%)]  Loss:  2.026961 (6.5400)  Time: 0.515s,   31.10/s  (0.583s,   27.47/s)  LR: 1.000e-04  Data: 0.022 (0.049)\n",
            "Train: 0 [ 100/1035 ( 10%)]  Loss:  1.738126 (4.1999)  Time: 0.490s,   32.67/s  (0.530s,   30.22/s)  LR: 1.000e-04  Data: 0.044 (0.036)\n",
            "Train: 0 [ 150/1035 ( 15%)]  Loss:  1.726809 (3.3922)  Time: 0.470s,   34.06/s  (0.512s,   31.23/s)  LR: 1.000e-04  Data: 0.022 (0.031)\n",
            "Train: 0 [ 200/1035 ( 19%)]  Loss:  1.807501 (2.9680)  Time: 0.476s,   33.61/s  (0.503s,   31.80/s)  LR: 1.000e-04  Data: 0.022 (0.029)\n",
            "Train: 0 [ 250/1035 ( 24%)]  Loss:  1.617083 (2.7079)  Time: 0.479s,   33.39/s  (0.499s,   32.07/s)  LR: 1.000e-04  Data: 0.032 (0.027)\n",
            "Train: 0 [ 300/1035 ( 29%)]  Loss:  1.615584 (2.5319)  Time: 0.474s,   33.76/s  (0.497s,   32.18/s)  LR: 1.000e-04  Data: 0.022 (0.026)\n",
            "Train: 0 [ 350/1035 ( 34%)]  Loss:  1.655198 (2.4029)  Time: 0.510s,   31.37/s  (0.496s,   32.26/s)  LR: 1.000e-04  Data: 0.020 (0.026)\n",
            "Train: 0 [ 400/1035 ( 39%)]  Loss:  1.595243 (2.3066)  Time: 0.470s,   34.05/s  (0.494s,   32.38/s)  LR: 1.000e-04  Data: 0.022 (0.025)\n",
            "Train: 0 [ 450/1035 ( 44%)]  Loss:  1.599992 (2.2275)  Time: 0.469s,   34.09/s  (0.494s,   32.40/s)  LR: 1.000e-04  Data: 0.021 (0.025)\n",
            "Train: 0 [ 500/1035 ( 48%)]  Loss:  1.585448 (2.1641)  Time: 0.473s,   33.84/s  (0.493s,   32.47/s)  LR: 1.000e-04  Data: 0.021 (0.024)\n",
            "Train: 0 [ 550/1035 ( 53%)]  Loss:  1.630928 (2.1107)  Time: 0.470s,   34.02/s  (0.492s,   32.52/s)  LR: 1.000e-04  Data: 0.021 (0.024)\n",
            "Train: 0 [ 600/1035 ( 58%)]  Loss:  1.589741 (2.0652)  Time: 0.488s,   32.82/s  (0.492s,   32.52/s)  LR: 1.000e-04  Data: 0.022 (0.024)\n",
            "Train: 0 [ 650/1035 ( 63%)]  Loss:  1.581438 (2.0260)  Time: 0.502s,   31.87/s  (0.492s,   32.51/s)  LR: 1.000e-04  Data: 0.022 (0.024)\n",
            "Train: 0 [ 700/1035 ( 68%)]  Loss:  1.531875 (1.9937)  Time: 0.489s,   32.73/s  (0.492s,   32.51/s)  LR: 1.000e-04  Data: 0.025 (0.024)\n",
            "Train: 0 [ 750/1035 ( 73%)]  Loss:  1.593407 (1.9637)  Time: 0.500s,   32.02/s  (0.492s,   32.52/s)  LR: 1.000e-04  Data: 0.022 (0.024)\n",
            "Train: 0 [ 800/1035 ( 77%)]  Loss:  1.461417 (1.9373)  Time: 0.514s,   31.11/s  (0.492s,   32.53/s)  LR: 1.000e-04  Data: 0.022 (0.023)\n",
            "Train: 0 [ 850/1035 ( 82%)]  Loss:  1.477494 (1.9139)  Time: 0.498s,   32.15/s  (0.491s,   32.55/s)  LR: 1.000e-04  Data: 0.022 (0.023)\n",
            "Train: 0 [ 900/1035 ( 87%)]  Loss:  1.513645 (1.8925)  Time: 0.465s,   34.37/s  (0.491s,   32.58/s)  LR: 1.000e-04  Data: 0.021 (0.023)\n",
            "Train: 0 [ 950/1035 ( 92%)]  Loss:  1.671617 (1.8739)  Time: 0.511s,   31.28/s  (0.491s,   32.60/s)  LR: 1.000e-04  Data: 0.021 (0.023)\n",
            "Train: 0 [1000/1035 ( 97%)]  Loss:  1.642494 (1.8576)  Time: 0.488s,   32.80/s  (0.490s,   32.62/s)  LR: 1.000e-04  Data: 0.023 (0.023)\n",
            "Train: 0 [1034/1035 (100%)]  Loss:  1.553227 (1.8462)  Time: 2.294s,    3.05/s  (0.492s,   14.24/s)  LR: 1.000e-04  Data: 0.093 (0.023)\n",
            "Test (EMA): [   0/309]  Time: 2.268 (2.268)  Loss:  1.3911 (1.3911)  \n",
            "Test (EMA): [  50/309]  Time: 0.374 (0.376)  Loss:  1.5194 (1.4284)  \n",
            "Test (EMA): [ 100/309]  Time: 0.312 (0.350)  Loss:  1.4829 (1.4322)  \n",
            "Test (EMA): [ 150/309]  Time: 0.285 (0.338)  Loss:  1.3838 (1.4366)  \n",
            "Test (EMA): [ 200/309]  Time: 0.341 (0.333)  Loss:  1.4024 (1.4356)  \n",
            "Test (EMA): [ 250/309]  Time: 0.350 (0.330)  Loss:  1.4582 (1.4371)  \n",
            "Test (EMA): [ 300/309]  Time: 0.292 (0.328)  Loss:  1.3850 (1.4371)  \n",
            "Test (EMA): [ 309/309]  Time: 0.512 (0.326)  Loss:  1.4415 (1.4372)  \n",
            "Metrics:\n",
            "PascalBoxes_Precision/mAP@0.5IOU: 0.007651366213062297\n",
            "PascalBoxes_PerformanceByCategory/AP@0.5IOU/aeroplane: 0.00127997833137855\n",
            "PascalBoxes_PerformanceByCategory/AP@0.5IOU/bicycle: 0.004238160741492324\n",
            "PascalBoxes_PerformanceByCategory/AP@0.5IOU/bird: 0.0067185026329447325\n",
            "PascalBoxes_PerformanceByCategory/AP@0.5IOU/boat: 0.0020313184736955943\n",
            "PascalBoxes_PerformanceByCategory/AP@0.5IOU/bottle: 0.00011510300082078536\n",
            "PascalBoxes_PerformanceByCategory/AP@0.5IOU/bus: 0.0010189580038818464\n",
            "PascalBoxes_PerformanceByCategory/AP@0.5IOU/car: 0.00848238394786717\n",
            "PascalBoxes_PerformanceByCategory/AP@0.5IOU/cat: 0.0032961348083295726\n",
            "PascalBoxes_PerformanceByCategory/AP@0.5IOU/chair: 0.014743931644474835\n",
            "PascalBoxes_PerformanceByCategory/AP@0.5IOU/cow: 0.00525523625512177\n",
            "PascalBoxes_PerformanceByCategory/AP@0.5IOU/diningtable: 0.0003997581960536763\n",
            "PascalBoxes_PerformanceByCategory/AP@0.5IOU/dog: 0.007058134735370248\n",
            "PascalBoxes_PerformanceByCategory/AP@0.5IOU/horse: 0.0026458328466231946\n",
            "PascalBoxes_PerformanceByCategory/AP@0.5IOU/motorbike: 0.002727182712833909\n",
            "PascalBoxes_PerformanceByCategory/AP@0.5IOU/person: 0.07400866795093053\n",
            "PascalBoxes_PerformanceByCategory/AP@0.5IOU/pottedplant: 0.0019201836228325449\n",
            "PascalBoxes_PerformanceByCategory/AP@0.5IOU/sheep: 0.002558225865985075\n",
            "PascalBoxes_PerformanceByCategory/AP@0.5IOU/sofa: 0.001496282785231737\n",
            "PascalBoxes_PerformanceByCategory/AP@0.5IOU/train: 0.0032069511675118286\n",
            "PascalBoxes_PerformanceByCategory/AP@0.5IOU/tvmonitor: 0.009826396537866017\n",
            "Current checkpoints:\n",
            " ('./output/train/20210123-020440-efficientdet_d0/checkpoint-0.pth.tar', 0.007651366213062297)\n",
            "\n",
            "Train: 1 [   0/1035 (  0%)]  Loss:  1.510142 (1.5101)  Time: 2.517s,    6.36/s  (2.517s,    6.36/s)  LR: 2.733e-03  Data: 1.464 (1.464)\n",
            "Train: 1 [  50/1035 (  5%)]  Loss:  1.461509 (1.4569)  Time: 0.523s,   30.58/s  (0.547s,   29.24/s)  LR: 2.733e-03  Data: 0.021 (0.050)\n",
            "Train: 1 [ 100/1035 ( 10%)]  Loss:  1.394758 (1.4125)  Time: 0.522s,   30.62/s  (0.525s,   30.50/s)  LR: 2.733e-03  Data: 0.023 (0.036)\n",
            "Train: 1 [ 150/1035 ( 15%)]  Loss:  1.395184 (1.3687)  Time: 0.485s,   32.99/s  (0.514s,   31.10/s)  LR: 2.733e-03  Data: 0.022 (0.032)\n",
            "Train: 1 [ 200/1035 ( 19%)]  Loss:  1.240610 (1.3457)  Time: 0.492s,   32.55/s  (0.509s,   31.44/s)  LR: 2.733e-03  Data: 0.022 (0.029)\n",
            "Train: 1 [ 250/1035 ( 24%)]  Loss:  1.109938 (1.3213)  Time: 0.505s,   31.71/s  (0.507s,   31.56/s)  LR: 2.733e-03  Data: 0.025 (0.028)\n",
            "Train: 1 [ 300/1035 ( 29%)]  Loss:  1.296004 (1.2994)  Time: 0.483s,   33.11/s  (0.504s,   31.73/s)  LR: 2.733e-03  Data: 0.021 (0.027)\n",
            "Train: 1 [ 350/1035 ( 34%)]  Loss:  1.176803 (1.2826)  Time: 0.503s,   31.84/s  (0.503s,   31.82/s)  LR: 2.733e-03  Data: 0.021 (0.026)\n",
            "Train: 1 [ 400/1035 ( 39%)]  Loss:  1.151497 (1.2645)  Time: 0.489s,   32.71/s  (0.501s,   31.91/s)  LR: 2.733e-03  Data: 0.022 (0.025)\n",
            "Train: 1 [ 450/1035 ( 44%)]  Loss:  1.004059 (1.2474)  Time: 0.471s,   33.98/s  (0.500s,   31.98/s)  LR: 2.733e-03  Data: 0.023 (0.025)\n",
            "Train: 1 [ 500/1035 ( 48%)]  Loss:  0.988294 (1.2319)  Time: 0.508s,   31.47/s  (0.500s,   32.03/s)  LR: 2.733e-03  Data: 0.021 (0.025)\n",
            "Train: 1 [ 550/1035 ( 53%)]  Loss:  1.012462 (1.2166)  Time: 0.493s,   32.44/s  (0.499s,   32.04/s)  LR: 2.733e-03  Data: 0.022 (0.025)\n",
            "Train: 1 [ 600/1035 ( 58%)]  Loss:  1.071601 (1.2019)  Time: 0.486s,   32.92/s  (0.499s,   32.08/s)  LR: 2.733e-03  Data: 0.021 (0.024)\n",
            "Train: 1 [ 650/1035 ( 63%)]  Loss:  0.980135 (1.1883)  Time: 0.487s,   32.85/s  (0.498s,   32.11/s)  LR: 2.733e-03  Data: 0.021 (0.024)\n",
            "Train: 1 [ 700/1035 ( 68%)]  Loss:  0.982862 (1.1779)  Time: 0.492s,   32.52/s  (0.498s,   32.13/s)  LR: 2.733e-03  Data: 0.021 (0.024)\n",
            "Train: 1 [ 750/1035 ( 73%)]  Loss:  0.937740 (1.1663)  Time: 0.480s,   33.30/s  (0.498s,   32.15/s)  LR: 2.733e-03  Data: 0.021 (0.024)\n",
            "Train: 1 [ 800/1035 ( 77%)]  Loss:  0.990675 (1.1556)  Time: 0.473s,   33.83/s  (0.497s,   32.17/s)  LR: 2.733e-03  Data: 0.021 (0.024)\n",
            "Train: 1 [ 850/1035 ( 82%)]  Loss:  1.193041 (1.1456)  Time: 0.473s,   33.84/s  (0.497s,   32.19/s)  LR: 2.733e-03  Data: 0.022 (0.024)\n",
            "Train: 1 [ 900/1035 ( 87%)]  Loss:  0.984573 (1.1366)  Time: 0.477s,   33.54/s  (0.497s,   32.21/s)  LR: 2.733e-03  Data: 0.022 (0.024)\n",
            "Train: 1 [ 950/1035 ( 92%)]  Loss:  0.941979 (1.1263)  Time: 0.520s,   30.77/s  (0.497s,   32.21/s)  LR: 2.733e-03  Data: 0.022 (0.024)\n",
            "Train: 1 [1000/1035 ( 97%)]  Loss:  1.034145 (1.1170)  Time: 0.483s,   33.12/s  (0.496s,   32.23/s)  LR: 2.733e-03  Data: 0.022 (0.024)\n",
            "Train: 1 [1034/1035 (100%)]  Loss:  0.889599 (1.1117)  Time: 0.368s,   19.04/s  (0.496s,   14.12/s)  LR: 2.733e-03  Data: 0.095 (0.024)\n",
            "Test (EMA): [   0/309]  Time: 1.631 (1.631)  Loss:  0.8212 (0.8212)  \n",
            "Test (EMA): [  50/309]  Time: 0.308 (0.354)  Loss:  0.9208 (0.8690)  \n",
            "Test (EMA): [ 100/309]  Time: 0.298 (0.334)  Loss:  0.7864 (0.8714)  \n",
            "Test (EMA): [ 150/309]  Time: 0.304 (0.327)  Loss:  0.9255 (0.8767)  \n",
            "Test (EMA): [ 200/309]  Time: 0.308 (0.322)  Loss:  0.7915 (0.8713)  \n",
            "Test (EMA): [ 250/309]  Time: 0.307 (0.321)  Loss:  0.8261 (0.8716)  \n",
            "Test (EMA): [ 300/309]  Time: 0.336 (0.319)  Loss:  0.8319 (0.8728)  \n",
            "Test (EMA): [ 309/309]  Time: 0.199 (0.316)  Loss:  0.8296 (0.8727)  \n",
            "Metrics:\n",
            "PascalBoxes_Precision/mAP@0.5IOU: 0.2405215336247879\n",
            "PascalBoxes_PerformanceByCategory/AP@0.5IOU/aeroplane: 0.5572509581322171\n",
            "PascalBoxes_PerformanceByCategory/AP@0.5IOU/bicycle: 0.1990047626825304\n",
            "PascalBoxes_PerformanceByCategory/AP@0.5IOU/bird: 0.16546111544043066\n",
            "PascalBoxes_PerformanceByCategory/AP@0.5IOU/boat: 0.016913756452396903\n",
            "PascalBoxes_PerformanceByCategory/AP@0.5IOU/bottle: 0.010120984769766576\n",
            "PascalBoxes_PerformanceByCategory/AP@0.5IOU/bus: 0.05601893480372458\n",
            "PascalBoxes_PerformanceByCategory/AP@0.5IOU/car: 0.6545894150156564\n",
            "PascalBoxes_PerformanceByCategory/AP@0.5IOU/cat: 0.7238222561365153\n",
            "PascalBoxes_PerformanceByCategory/AP@0.5IOU/chair: 0.48304913896581053\n",
            "PascalBoxes_PerformanceByCategory/AP@0.5IOU/cow: 0.09605171620653835\n",
            "PascalBoxes_PerformanceByCategory/AP@0.5IOU/diningtable: 0.002053082430921601\n",
            "PascalBoxes_PerformanceByCategory/AP@0.5IOU/dog: 0.2640072989758589\n",
            "PascalBoxes_PerformanceByCategory/AP@0.5IOU/horse: 0.33286619961301944\n",
            "PascalBoxes_PerformanceByCategory/AP@0.5IOU/motorbike: 0.31158991752674814\n",
            "PascalBoxes_PerformanceByCategory/AP@0.5IOU/person: 0.7469619505641343\n",
            "PascalBoxes_PerformanceByCategory/AP@0.5IOU/pottedplant: 0.026929605588024298\n",
            "PascalBoxes_PerformanceByCategory/AP@0.5IOU/sheep: 0.005504527878785385\n",
            "PascalBoxes_PerformanceByCategory/AP@0.5IOU/sofa: 0.09649578842348205\n",
            "PascalBoxes_PerformanceByCategory/AP@0.5IOU/train: 0.024482782223101657\n",
            "PascalBoxes_PerformanceByCategory/AP@0.5IOU/tvmonitor: 0.037256480666096235\n",
            "Current checkpoints:\n",
            " ('./output/train/20210123-020440-efficientdet_d0/checkpoint-1.pth.tar', 0.2405215336247879)\n",
            " ('./output/train/20210123-020440-efficientdet_d0/checkpoint-0.pth.tar', 0.007651366213062297)\n",
            "\n",
            "Train: 2 [   0/1035 (  0%)]  Loss:  0.989560 (0.9896)  Time: 2.471s,    6.47/s  (2.471s,    6.47/s)  LR: 5.367e-03  Data: 1.445 (1.445)\n",
            "Train: 2 [  50/1035 (  5%)]  Loss:  0.941615 (0.9243)  Time: 0.532s,   30.07/s  (0.541s,   29.57/s)  LR: 5.367e-03  Data: 0.024 (0.051)\n",
            "Train: 2 [ 100/1035 ( 10%)]  Loss:  0.872638 (0.9114)  Time: 0.486s,   32.89/s  (0.515s,   31.08/s)  LR: 5.367e-03  Data: 0.022 (0.036)\n",
            "Train: 2 [ 150/1035 ( 15%)]  Loss:  0.856561 (0.9067)  Time: 0.504s,   31.72/s  (0.506s,   31.61/s)  LR: 5.367e-03  Data: 0.022 (0.032)\n",
            "Train: 2 [ 200/1035 ( 19%)]  Loss:  0.863041 (0.9028)  Time: 0.505s,   31.66/s  (0.504s,   31.76/s)  LR: 5.367e-03  Data: 0.021 (0.029)\n",
            "Train: 2 [ 250/1035 ( 24%)]  Loss:  0.961843 (0.8970)  Time: 0.487s,   32.88/s  (0.502s,   31.88/s)  LR: 5.367e-03  Data: 0.020 (0.028)\n",
            "Train: 2 [ 300/1035 ( 29%)]  Loss:  0.833646 (0.8930)  Time: 0.488s,   32.77/s  (0.500s,   31.99/s)  LR: 5.367e-03  Data: 0.021 (0.027)\n",
            "Train: 2 [ 350/1035 ( 34%)]  Loss:  0.736199 (0.8874)  Time: 0.493s,   32.48/s  (0.499s,   32.08/s)  LR: 5.367e-03  Data: 0.021 (0.026)\n",
            "Train: 2 [ 400/1035 ( 39%)]  Loss:  0.846961 (0.8812)  Time: 0.481s,   33.25/s  (0.498s,   32.12/s)  LR: 5.367e-03  Data: 0.021 (0.025)\n",
            "Train: 2 [ 450/1035 ( 44%)]  Loss:  0.869847 (0.8738)  Time: 0.480s,   33.35/s  (0.497s,   32.19/s)  LR: 5.367e-03  Data: 0.021 (0.025)\n",
            "Train: 2 [ 500/1035 ( 48%)]  Loss:  0.841354 (0.8686)  Time: 0.467s,   34.28/s  (0.496s,   32.23/s)  LR: 5.367e-03  Data: 0.020 (0.025)\n",
            "Train: 2 [ 550/1035 ( 53%)]  Loss:  0.833116 (0.8631)  Time: 0.521s,   30.73/s  (0.496s,   32.27/s)  LR: 5.367e-03  Data: 0.027 (0.024)\n",
            "Train: 2 [ 600/1035 ( 58%)]  Loss:  0.805649 (0.8570)  Time: 0.488s,   32.76/s  (0.496s,   32.27/s)  LR: 5.367e-03  Data: 0.021 (0.024)\n",
            "Train: 2 [ 650/1035 ( 63%)]  Loss:  0.811196 (0.8524)  Time: 0.481s,   33.24/s  (0.495s,   32.33/s)  LR: 5.367e-03  Data: 0.023 (0.024)\n",
            "Train: 2 [ 700/1035 ( 68%)]  Loss:  0.743323 (0.8482)  Time: 0.510s,   31.35/s  (0.495s,   32.32/s)  LR: 5.367e-03  Data: 0.022 (0.024)\n",
            "Train: 2 [ 750/1035 ( 73%)]  Loss:  0.809171 (0.8452)  Time: 0.485s,   32.98/s  (0.495s,   32.33/s)  LR: 5.367e-03  Data: 0.021 (0.024)\n",
            "Train: 2 [ 800/1035 ( 77%)]  Loss:  0.753492 (0.8411)  Time: 0.477s,   33.53/s  (0.495s,   32.33/s)  LR: 5.367e-03  Data: 0.021 (0.024)\n",
            "Train: 2 [ 850/1035 ( 82%)]  Loss:  0.712141 (0.8361)  Time: 0.493s,   32.45/s  (0.494s,   32.37/s)  LR: 5.367e-03  Data: 0.038 (0.024)\n",
            "Train: 2 [ 900/1035 ( 87%)]  Loss:  0.862562 (0.8328)  Time: 0.503s,   31.80/s  (0.494s,   32.36/s)  LR: 5.367e-03  Data: 0.022 (0.024)\n"
          ],
          "name": "stdout"
        }
      ]
    },
    {
      "cell_type": "code",
      "metadata": {
        "id": "hBsfpcSb-gEF"
      },
      "source": [
        ""
      ],
      "execution_count": null,
      "outputs": []
    }
  ]
}